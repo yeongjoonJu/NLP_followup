{
 "metadata": {
  "language_info": {
   "codemirror_mode": {
    "name": "ipython",
    "version": 3
   },
   "file_extension": ".py",
   "mimetype": "text/x-python",
   "name": "python",
   "nbconvert_exporter": "python",
   "pygments_lexer": "ipython3",
   "version": "3.8.10"
  },
  "orig_nbformat": 4,
  "kernelspec": {
   "name": "python3",
   "display_name": "Python 3.8.10 64-bit ('nlp': conda)"
  },
  "interpreter": {
   "hash": "53b3f80e13b495741f6e29c93e1acf31e8ba4e98bc4d46d6d4364ccc38713f8e"
  }
 },
 "nbformat": 4,
 "nbformat_minor": 2,
 "cells": [
  {
   "cell_type": "code",
   "execution_count": 1,
   "metadata": {},
   "outputs": [],
   "source": [
    "from torchtext import data, datasets"
   ]
  },
  {
   "cell_type": "code",
   "execution_count": 2,
   "metadata": {},
   "outputs": [
    {
     "output_type": "stream",
     "name": "stderr",
     "text": [
      "/home/yj_ju/anaconda3/envs/nlp/lib/python3.8/site-packages/torchtext/data/field.py:150: UserWarning: Field class will be retired soon and moved to torchtext.legacy. Please see the most recent release notes for further information.\n  warnings.warn('{} class will be retired soon and moved to torchtext.legacy. Please see the most recent release notes for further information.'.format(self.__class__.__name__), UserWarning)\n"
     ]
    }
   ],
   "source": [
    "TEXT = data.Field(sequential=True, batch_first=True, lower=True)\n",
    "LABEL = data.Field(sequential=False, batch_first=True)"
   ]
  },
  {
   "cell_type": "code",
   "execution_count": 4,
   "metadata": {},
   "outputs": [
    {
     "output_type": "stream",
     "name": "stdout",
     "text": [
      "downloading aclImdb_v1.tar.gz\n",
      "aclImdb_v1.tar.gz: 100%|██████████| 84.1M/84.1M [00:11<00:00, 7.18MB/s]\n",
      "/home/yj_ju/anaconda3/envs/nlp/lib/python3.8/site-packages/torchtext/data/example.py:78: UserWarning: Example class will be retired soon and moved to torchtext.legacy. Please see the most recent release notes for further information.\n",
      "  warnings.warn('Example class will be retired soon and moved to torchtext.legacy. Please see the most recent release notes for further information.', UserWarning)\n",
      "25000\n"
     ]
    }
   ],
   "source": [
    "trainset, testset = datasets.IMDB.splits(TEXT, LABEL)\n",
    "print(len(trainset))"
   ]
  },
  {
   "cell_type": "code",
   "execution_count": 5,
   "metadata": {},
   "outputs": [
    {
     "output_type": "stream",
     "name": "stdout",
     "text": [
      "{'text': ['i', 'probably', 'doubled', 'my', 'knowledge', 'of', 'iran', 'when', 'i', 'saw', 'secret', 'ballot', '(2001).', 'now', 'i', 'know', 'about', 'four', 'times', 'as', 'much', '(i', 'doubt', 'i', 'learned', 'a', 'whole', 'heck', 'of', 'a', 'lot', 'from', 'not', 'without', 'my', 'daughter', '(1991)).<br', '/><br', '/>offside', 'is', 'a', 'splendid', 'budget', 'iranian', 'comedy', 'about', 'a', 'group', 'a', 'girls', '(working', 'individually)', 'to', 'attend', 'a', 'decisive', 'soccer', 'match', 'for', 'their', \"country's\", 'place', 'in', 'the', 'world', 'cup.', 'women', 'are', 'not', 'allowed', 'to', 'attend', 'soccer', 'matches,', 'so', 'the', \"nation's\", 'armed', 'forces', 'have', 'been', 'mobilized', 'to', 'save', 'any', 'women', 'who', 'try', 'to', 'enter', 'from', 'themselves.', 'some', '(teen?)', 'girls', 'try', 'to', 'crash', 'the', 'party', 'by', 'dressing', 'as', 'boys,', 'but', 'are', 'caught.', 'the', 'movie', 'is', 'mostly', 'set', 'at', 'this', 'holding', 'pen', 'where', 'the', 'girls', 'are', 'detained', 'by', 'soldiers,', 'awaiting', 'some', 'unspecified', 'punishment', '(although,', 'the', 'girl', 'who', 'dressed', 'as', 'a', 'soldier', 'claims', 'that', 'she', 'was', 'one', 'insignia', 'away', 'from', 'being', 'executed!)<br', '/><br', '/>the', 'movie', 'explores', 'the', 'absurdity', 'of', 'the', 'situation.', 'the', 'thinking', 'that', 'bars', 'women', 'from', 'football', 'matches', 'comes', 'down', 'to', 'it', 'being', 'too', 'raunchy', 'an', 'experience', 'for', 'the', 'fairer', 'sex\\x96a', 'philosophy', 'not', 'unknown', 'in', 'the', 'west', 'less', 'than', '100', 'years', 'ago.', 'this', 'farce', 'comes', 'to', 'a', 'head', 'when', 'a', 'girl', 'needs', 'to', 'go', 'to', 'the', 'bathroom,', 'so', 'a', 'soldier', 'escorting', 'her', 'demands', 'that', 'she', 'cover', 'her', 'eyes', 'so', 'she', \"can't\", 'see', 'the', 'graffiti.', 'the', 'conflict', 'is', 'not', 'entirely', 'about', 'the', 'battle', 'of', 'the', 'sexes:', 'at', 'one', 'point', 'some', 'friction', 'arises', 'between', 'a', 'solider', 'who', 'is', 'rural', 'and', 'the', 'girls', 'who', 'are', 'urban.<br', '/><br', '/>fortunately,', 'this', 'movie', 'was', 'not', 'too', 'culturally', 'esoteric', 'that', 'the', 'comedy', 'was', 'lost', 'on', 'this', 'neighbour', 'and', 'cultural', 'cousin', 'of', 'the', 'great', 'satan.', 'you', 'have', 'to', 'be', 'in', 'the', 'mood', 'for', 'it,', 'but', 'no', 'one', 'should', 'avoid', 'this', 'movie', 'because', 'they', 'think', 'that', 'they', \"won't\", 'get', 'it.'], 'label': 'pos'}\n"
     ]
    }
   ],
   "source": [
    "print(vars(trainset[0]))"
   ]
  },
  {
   "cell_type": "code",
   "execution_count": null,
   "metadata": {},
   "outputs": [],
   "source": []
  }
 ]
}